{
 "cells": [
  {
   "cell_type": "markdown",
   "metadata": {},
   "source": [
    "# Trabalho de Econometria\n",
    "Análise de modelos a partir de formulário sobre uso de IA por alunos de Economia (FACECON)\n",
    "\n",
    "## Hipótese Estatística\n",
    "\n",
    "- **Hipótese Nula (H₀):** Não há diferença significativa no uso de IA entre os turnos.\n",
    "- **Hipótese Alternativa (H₁):** Há diferença significativa no uso de IA entre os turnos.\n",
    "\n",
    "### Método Estatístico Utilizado\n",
    "---\n",
    "#### Teste Qui-Quadrado de Independência\n",
    "\n",
    "Este teste avalia se há associação entre duas variáveis categóricas — neste caso, **turno** e **uso de IA**.\n",
    "\n",
    "##### Requisitos:\n",
    "- Dados categórico\n",
    "- Amostras independentes\n",
    "- Frequência esperada mínima em cada célula (preferencialmente ≥ 5)\n",
    "\n",
    "**Todos os dados organizamos em um arquivo excel renomeado para dadosbase.xlsx**\n",
    "\n",
    "##### Fórmula base da estatística:\n",
    "$$\n",
    "\\chi^2 = \\sum \\frac{(O - E)^2}{E}\n",
    "$$\n",
    "\n",
    "Onde:\n",
    "- \\( O \\) = frequência observada\n",
    "- \\( E \\) = frequência esperada (sob hipótese nula)"
   ]
  },
  {
   "cell_type": "markdown",
   "metadata": {},
   "source": [
    "Importação das bibliotecas Python"
   ]
  },
  {
   "cell_type": "code",
   "execution_count": 7,
   "metadata": {},
   "outputs": [],
   "source": [
    "import pandas as pd\n",
    "from scipy.stats import chi2_contingency\n",
    "import matplotlib.pyplot as plt"
   ]
  },
  {
   "cell_type": "markdown",
   "metadata": {},
   "source": [
    "Carregando base de dados e executando modelo (segue comentário para análise)"
   ]
  },
  {
   "cell_type": "code",
   "execution_count": null,
   "metadata": {},
   "outputs": [],
   "source": [
    "# 1. Carregar a base de dados\n",
    "df = pd.read_excel(\"dadosbase.xlsx\")  # Não é o nome original, mas sim uma renomeação para melhor análise\n",
    "\n",
    "# 2. Criar uma variável binária a partir da coluna v20\n",
    "# 'Sim' será convertido para 1 (usou IA), e outros valores para 0\n",
    "df['usa_ia_professor'] = df['v20'].apply(lambda x: 1 if str(x).strip().lower() == 'sim' else 0)\n",
    "\n",
    "# 3. Criar uma tabela de contingência cruzando Turno (v7) com Uso de IA (nova coluna)\n",
    "contingency_table = pd.crosstab(df['v7'], df['usa_ia_professor'])\n",
    "\n",
    "# 4. Aplicar o teste qui-quadrado de independência\n",
    "chi2, p, dof, expected = chi2_contingency(contingency_table)"
   ]
  },
  {
   "cell_type": "code",
   "execution_count": 9,
   "metadata": {},
   "outputs": [
    {
     "name": "stdout",
     "output_type": "stream",
     "text": [
      "=== Resultado do Teste Qui-Quadrado ===\n",
      "Estatística Qui-Quadrado: 0.0\n",
      "p-valor: 1.0\n",
      "Graus de liberdade: 1\n",
      "Frequências esperadas sob hipótese nula:\n",
      "[[ 3.1875 47.8125]\n",
      " [ 1.8125 27.1875]]\n"
     ]
    },
    {
     "data": {
      "image/png": "[encoded data removed]",
      "text/plain": [
       "<Figure size 640x480 with 1 Axes>"
      ]
     },
     "metadata": {},
     "output_type": "display_data"
    }
   ],
   "source": [
    "# 5. Exibir os resultados do teste\n",
    "print(\"=== Resultado do Teste Qui-Quadrado ===\")\n",
    "print(\"Estatística Qui-Quadrado:\", chi2)\n",
    "print(\"p-valor:\", p)\n",
    "print(\"Graus de liberdade:\", dof)\n",
    "print(\"Frequências esperadas sob hipótese nula:\")\n",
    "print(expected)\n",
    "\n",
    "# 6. Plotar gráfico de barras empilhadas para visualização\n",
    "contingency_table.plot(kind='bar', stacked=True)\n",
    "plt.title(\"Uso de IA por Turno (v20 - Auxílio nas Disciplinas)\")\n",
    "plt.xlabel(\"Turno\")\n",
    "plt.ylabel(\"Número de Estudantes\")\n",
    "plt.legend(title=\"Usa IA (v20)\", labels=[\"Não\", \"Sim\"])\n",
    "plt.xticks(rotation=0)\n",
    "plt.tight_layout()\n",
    "plt.show()"
   ]
  },
  {
   "cell_type": "markdown",
   "metadata": {},
   "source": [
    "### Resultados do modelo em Python\n",
    "\n",
    "| Métrica             | Valor         |\n",
    "|---------------------|---------------|\n",
    "| Estatística χ²      | 0.00          |\n",
    "| p-valor             | 1.00          |\n",
    "| Graus de liberdade  | 1             |\n",
    "\n",
    "\n",
    "### Interpretação\n",
    "\n",
    "Com **p-valor = 1.00**, não há evidência estatística para rejeitar a hipótese nula. Ou seja:\n",
    "\n",
    "> **O uso de IA pelos alunos é estatisticamente semelhante entre os turnos MANHÃ e NOITE.**\n",
    "\n",
    "---\n",
    "\n",
    "### Conclusão simplificada\n",
    "\n",
    "Com base nos dados coletados, **o turno em que o aluno estuda não influencia significativamente o uso de Inteligência Artificial para apoio nas disciplinas**.\n"
   ]
  }
 ],
 "metadata": {
  "kernelspec": {
   "display_name": ".venv",
   "language": "python",
   "name": "python3"
  },
  "language_info": {
   "codemirror_mode": {
    "name": "ipython",
    "version": 3
   },
   "file_extension": ".py",
   "mimetype": "text/x-python",
   "name": "python",
   "nbconvert_exporter": "python",
   "pygments_lexer": "ipython3",
   "version": "3.12.0"
  }
 },
 "nbformat": 4,
 "nbformat_minor": 2
}
